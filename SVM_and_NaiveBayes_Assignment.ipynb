{
  "nbformat": 4,
  "nbformat_minor": 0,
  "metadata": {
    "colab": {
      "provenance": [],
      "authorship_tag": "ABX9TyOSGq33f/EnkTp+tBhys/BZ",
      "include_colab_link": true
    },
    "kernelspec": {
      "name": "python3",
      "display_name": "Python 3"
    },
    "language_info": {
      "name": "python"
    }
  },
  "cells": [
    {
      "cell_type": "markdown",
      "metadata": {
        "id": "view-in-github",
        "colab_type": "text"
      },
      "source": [
        "<a href=\"https://colab.research.google.com/github/PratyushPriyamKuanr271776508/pwskills_SVMAndNaiveBayes/blob/main/SVM_and_NaiveBayes_Assignment.ipynb\" target=\"_parent\"><img src=\"https://colab.research.google.com/assets/colab-badge.svg\" alt=\"Open In Colab\"/></a>"
      ]
    },
    {
      "cell_type": "markdown",
      "source": [
        "### **1. What is a Support Vector Machine (SVM)?**  \n",
        "A **Support Vector Machine (SVM)** is a supervised learning algorithm used for classification and regression tasks. It finds the optimal hyperplane that best separates data points belonging to different classes by maximizing the margin between them.  \n",
        "\n",
        "---\n",
        "\n",
        "### **2. What is the difference between Hard Margin and Soft Margin SVM?**  \n",
        "- **Hard Margin SVM:**  \n",
        "  - Used when data is **perfectly separable**.  \n",
        "  - Tries to find a **hyperplane with the maximum margin** while ensuring **no misclassification**.  \n",
        "  - Highly sensitive to **outliers** and **noise**.  \n",
        "\n",
        "- **Soft Margin SVM:**  \n",
        "  - Used when data is **not perfectly separable**.  \n",
        "  - Allows some **misclassifications** by introducing a **slack variable**.  \n",
        "  - More **robust** to noisy data and outliers.  \n",
        "\n",
        "---\n",
        "\n",
        "### **3. What is the mathematical intuition behind SVM?**  \n",
        "SVM aims to find the hyperplane that **maximizes the margin** (distance between the closest points from each class, called **Support Vectors**).  \n",
        "Mathematically, it solves the following **optimization problem**:  \n",
        "\n",
        "$\\min_{w, b} \\frac{1}{2} ||w||^2$\n",
        "\n",
        "Subject to:  \n",
        "\n",
        "$y_i (w \\cdot x_i + b) \\geq 1, \\quad \\forall i$\n",
        "\n",
        "where:  \n",
        "- $w$ is the weight vector,  \n",
        "- $b$ is the bias term,  \n",
        "- $y_i$ are the class labels (\\(+1\\) or \\(-1\\)),  \n",
        "- $x_i$ are the feature vectors.  \n",
        "\n",
        "For **Soft Margin SVM**, a slack variable $\\xi_i$ is introduced:  \n",
        "\n",
        "$y_i (w \\cdot x_i + b) \\geq 1 - \\xi_i, \\quad \\xi_i \\geq 0$\\]\n",
        "\n",
        "to allow some misclassifications.  \n",
        "\n",
        "---\n",
        "\n",
        "### **4. What is the role of Lagrange Multipliers in SVM?**  \n",
        "Lagrange Multipliers help reformulate the **constrained optimization problem** of SVM into a **dual problem**, which is easier to solve, especially when using the **Kernel Trick**.  \n",
        "This allows the optimization problem to be rewritten as:  \n",
        "\n",
        "$\\max_{\\alpha} \\sum \\alpha_i - \\frac{1}{2} \\sum \\alpha_i \\alpha_j y_i y_j (x_i \\cdot x_j)$\n",
        "\n",
        "where $\\alpha_i$ are the **Lagrange multipliers**.\n",
        "\n",
        "---\n",
        "\n",
        "### **5. What are Support Vectors in SVM?**  \n",
        "**Support Vectors** are the **data points closest to the decision boundary** (hyperplane).  \n",
        "- These points **define the margin** and influence the decision boundary.  \n",
        "- Only Support Vectors contribute to the final model, making SVM efficient.  \n",
        "\n",
        "---\n",
        "\n",
        "### **6. What is a Support Vector Classifier (SVC)?**  \n",
        "A **Support Vector Classifier (SVC)** is an SVM model used for **classification tasks**. It finds the hyperplane that maximally separates classes, allowing some misclassification in the case of **Soft Margin SVM**.\n",
        "\n",
        "---\n",
        "\n",
        "### **7. What is a Support Vector Regressor (SVR)?**  \n",
        "A **Support Vector Regressor (SVR)** is an extension of SVM used for **regression tasks**. Instead of maximizing the margin between classes, it finds a function that fits within an **ε-tube** (a margin of tolerance).  \n",
        "\n",
        "---\n",
        "\n",
        "### **8. What is the Kernel Trick in SVM?**  \n",
        "The **Kernel Trick** allows SVM to solve **non-linearly separable** problems by mapping data into a **higher-dimensional space** without explicitly computing transformations.  \n",
        "Common kernels:  \n",
        "- **Linear Kernel**: $K(x, x') = x \\cdot x'$  \n",
        "- **Polynomial Kernel**: $K(x, x') = (x \\cdot x' + c)^d$  \n",
        "- **Radial Basis Function (RBF) Kernel**: $K(x, x') = e^{-\\gamma ||x - x'||^2}$  \n",
        "\n",
        "---\n",
        "\n",
        "### **9. Compare Linear Kernel, Polynomial Kernel, and RBF Kernel.**  \n",
        "| Kernel Type | Formula | Best Use Case |\n",
        "|------------|---------|--------------|\n",
        "| **Linear** | $x \\cdot x'$ | When data is linearly separable |\n",
        "| **Polynomial** | $(x \\cdot x' + c)^d$ | When data has polynomial relationships |\n",
        "| **RBF** | $e^{-\\gamma ||x - x'||^2}$ | When data has complex decision boundaries |\n",
        "\n",
        "---\n",
        "\n",
        "### **10. What is the effect of the C parameter in SVM?**  \n",
        "- **Large C:** Tries to classify all training points correctly (low bias, high variance).  \n",
        "- **Small C:** Allows more misclassification (high bias, low variance).  \n",
        "\n",
        "---\n",
        "\n",
        "### **11. What is the role of the Gamma parameter in RBF Kernel SVM?**  \n",
        "- **High gamma $\\gamma$**: Focuses on **local** structure (overfitting risk).  \n",
        "- **Low gamma $\\gamma$**: Considers **global** structure (underfitting risk).  \n",
        "\n",
        "---\n",
        "\n",
        "## **Naïve Bayes Classifier**  \n",
        "\n",
        "### **12. What is the Naïve Bayes classifier, and why is it called \"Naïve\"?**  \n",
        "- Naïve Bayes is a **probabilistic classifier** based on **Bayes’ Theorem**.  \n",
        "- It’s called “naïve” because it **assumes all features are independent**, which is rarely true in real data.  \n",
        "\n",
        "---\n",
        "\n",
        "### **13. What is Bayes’ Theorem?**  \n",
        "$P(A | B) = \\frac{P(B | A) P(A)}{P(B)}$\n",
        "where:  \n",
        "- $P(A | B)$ is the **posterior probability**.  \n",
        "- $P(B | A)$ is the **likelihood**.  \n",
        "- $P(A)$ is the **prior probability**.  \n",
        "- $P(B)$ is the **evidence**.  \n",
        "\n",
        "---\n",
        "\n",
        "### **14. Differences between Gaussian, Multinomial, and Bernoulli Naïve Bayes.**  \n",
        "| Type | Assumption | Best For |\n",
        "|------|-----------|----------|\n",
        "| **Gaussian** | Features are **normally distributed** | Continuous data |\n",
        "| **Multinomial** | Features are **count-based** | Text classification (word frequency) |\n",
        "| **Bernoulli** | Features are **binary** | Presence/absence of words in text |\n",
        "\n",
        "---\n",
        "\n",
        "### **15. When should you use Gaussian Naïve Bayes over other variants?**  \n",
        "When features are **continuous** and follow a **normal distribution** (e.g., heights, temperatures).  \n",
        "\n",
        "---\n",
        "\n",
        "### **16. What are the key assumptions made by Naïve Bayes?**  \n",
        "1. **Feature independence** (not always true).  \n",
        "2. **Equal importance** of features.  \n",
        "3. **Conditional probabilities follow known distributions**.  \n",
        "\n",
        "---\n",
        "\n",
        "### **17. What are the advantages and disadvantages of Naïve Bayes?**  \n",
        "**Advantages:**  \n",
        "✔ Fast and simple  \n",
        "✔ Works well with high-dimensional data  \n",
        "✔ Requires small training data  \n",
        "\n",
        "**Disadvantages:**  \n",
        "✖ Assumes independence of features  \n",
        "✖ Struggles with correlated data  \n",
        "\n",
        "---\n",
        "\n",
        "### **18. Why is Naïve Bayes a good choice for text classification?**  \n",
        "- Works well with **word frequencies**.  \n",
        "- **Handles high-dimensional data** efficiently.  \n",
        "- **Performs well even with small training data**.  \n",
        "\n",
        "---\n",
        "\n",
        "### **19. Compare SVM and Naïve Bayes for classification tasks.**  \n",
        "| Algorithm | Best For |\n",
        "|-----------|---------|\n",
        "| **SVM** | Complex decision boundaries, small datasets |\n",
        "| **Naïve Bayes** | Text classification, probabilistic outputs |\n",
        "\n",
        "---\n",
        "\n",
        "### **20. How does Laplace Smoothing help in Naïve Bayes?**  \n",
        "Laplace Smoothing prevents **zero probability** issues by adding a small constant $\\alpha$ to all probability estimates:  \n",
        "$P(w) = \\frac{\\text{count}(w) + \\alpha}{\\text{total words} + \\alpha \\cdot \\text{vocabulary size}}$"
      ],
      "metadata": {
        "id": "q1EQyiH6M7A2"
      }
    },
    {
      "cell_type": "markdown",
      "source": [
        "**21. Train an SVM Classifier on the Iris dataset and evaluate accuracy.**"
      ],
      "metadata": {
        "id": "U-rrUXH8PNVq"
      }
    },
    {
      "cell_type": "code",
      "execution_count": 1,
      "metadata": {
        "colab": {
          "base_uri": "https://localhost:8080/"
        },
        "id": "ma8--mL9M6O8",
        "outputId": "ca4957af-ff74-4763-df15-d7bae508aebb"
      },
      "outputs": [
        {
          "output_type": "stream",
          "name": "stdout",
          "text": [
            "Accuracy: 1.0\n"
          ]
        }
      ],
      "source": [
        "from sklearn import datasets\n",
        "from sklearn.svm import SVC\n",
        "from sklearn.model_selection import train_test_split\n",
        "from sklearn.metrics import accuracy_score\n",
        "\n",
        "iris = datasets.load_iris()\n",
        "X_train, X_test, y_train, y_test = train_test_split(iris.data, iris.target, test_size=0.2, random_state=42)\n",
        "\n",
        "clf = SVC(kernel='linear')\n",
        "clf.fit(X_train, y_train)\n",
        "y_pred = clf.predict(X_test)\n",
        "\n",
        "print(\"Accuracy:\", accuracy_score(y_test, y_pred))"
      ]
    },
    {
      "cell_type": "markdown",
      "source": [
        "**22. SVM Classifiers with Linear and RBF Kernels on Wine Dataset**"
      ],
      "metadata": {
        "id": "WRcC23rkPZ55"
      }
    },
    {
      "cell_type": "code",
      "source": [
        "from sklearn import datasets\n",
        "from sklearn.model_selection import train_test_split\n",
        "from sklearn.svm import SVC\n",
        "from sklearn.metrics import accuracy_score\n",
        "\n",
        "# Load dataset\n",
        "wine = datasets.load_wine()\n",
        "X, y = wine.data, wine.target\n",
        "\n",
        "# Split dataset\n",
        "X_train, X_test, y_train, y_test = train_test_split(X, y, test_size=0.3, random_state=42)\n",
        "\n",
        "# Train SVM with Linear Kernel\n",
        "clf_linear = SVC(kernel='linear')\n",
        "clf_linear.fit(X_train, y_train)\n",
        "y_pred_linear = clf_linear.predict(X_test)\n",
        "print(f\"Linear Kernel Accuracy: {accuracy_score(y_test, y_pred_linear)}\")\n",
        "\n",
        "# Train SVM with RBF Kernel\n",
        "clf_rbf = SVC(kernel='rbf')\n",
        "clf_rbf.fit(X_train, y_train)\n",
        "y_pred_rbf = clf_rbf.predict(X_test)\n",
        "print(f\"RBF Kernel Accuracy: {accuracy_score(y_test, y_pred_rbf)}\")"
      ],
      "metadata": {
        "colab": {
          "base_uri": "https://localhost:8080/"
        },
        "id": "ZRK-X9lCPRtW",
        "outputId": "02ea1595-2ed5-48a1-d766-dd596be68493"
      },
      "execution_count": 2,
      "outputs": [
        {
          "output_type": "stream",
          "name": "stdout",
          "text": [
            "Linear Kernel Accuracy: 0.9814814814814815\n",
            "RBF Kernel Accuracy: 0.7592592592592593\n"
          ]
        }
      ]
    },
    {
      "cell_type": "markdown",
      "source": [
        "**23. SVM Regressor on Housing Dataset**"
      ],
      "metadata": {
        "id": "OOkATJVpPh7x"
      }
    },
    {
      "cell_type": "code",
      "source": [
        "from sklearn.datasets import fetch_california_housing\n",
        "from sklearn.svm import SVR\n",
        "from sklearn.metrics import mean_squared_error\n",
        "\n",
        "housing = fetch_california_housing()\n",
        "X_train, X_test, y_train, y_test = train_test_split(housing.data, housing.target, test_size=0.2, random_state=42)\n",
        "\n",
        "svr = SVR(kernel='rbf')\n",
        "svr.fit(X_train, y_train)\n",
        "y_pred = svr.predict(X_test)\n",
        "\n",
        "print(\"MSE:\", mean_squared_error(y_test, y_pred))"
      ],
      "metadata": {
        "colab": {
          "base_uri": "https://localhost:8080/"
        },
        "id": "K9K3m8nWPeFO",
        "outputId": "84084ffa-5e47-456c-dcad-0915f0fc11bc"
      },
      "execution_count": 4,
      "outputs": [
        {
          "output_type": "stream",
          "name": "stdout",
          "text": [
            "MSE: 1.3320115421348744\n"
          ]
        }
      ]
    },
    {
      "cell_type": "markdown",
      "source": [
        "**24. SVM Classifier with Polynomial Kernel and Decision Boundary Visualization**"
      ],
      "metadata": {
        "id": "6btCTLlQWQTU"
      }
    },
    {
      "cell_type": "code",
      "source": [
        "import numpy as np\n",
        "import matplotlib.pyplot as plt\n",
        "from sklearn import datasets\n",
        "from sklearn.svm import SVC\n",
        "\n",
        "# Load dataset\n",
        "iris = datasets.load_iris()\n",
        "X = iris.data[:, :2]  # Use only the first two features for visualization\n",
        "y = iris.target\n",
        "\n",
        "# Train SVM with Polynomial Kernel\n",
        "clf = SVC(kernel='poly', degree=3)\n",
        "clf.fit(X, y)\n",
        "\n",
        "# Plot decision boundary\n",
        "x_min, x_max = X[:, 0].min() - 1, X[:, 0].max() + 1\n",
        "y_min, y_max = X[:, 1].min() - 1, X[:, 1].max() + 1\n",
        "xx, yy = np.meshgrid(np.arange(x_min, x_max, 0.02),\n",
        "                     np.arange(y_min, y_max, 0.02))\n",
        "Z = clf.predict(np.c_[xx.ravel(), yy.ravel()])\n",
        "Z = Z.reshape(xx.shape)\n",
        "\n",
        "plt.contourf(xx, yy, Z, alpha=0.8)\n",
        "plt.scatter(X[:, 0], X[:, 1], c=y, edgecolors='k', marker='o')\n",
        "plt.title('SVM with Polynomial Kernel')\n",
        "plt.show()"
      ],
      "metadata": {
        "colab": {
          "base_uri": "https://localhost:8080/",
          "height": 452
        },
        "id": "47Gxt1TaPkJc",
        "outputId": "ceec0486-46d8-45c3-971a-52e7e1c12374"
      },
      "execution_count": 7,
      "outputs": [
        {
          "output_type": "display_data",
          "data": {
            "text/plain": [
              "<Figure size 640x480 with 1 Axes>"
            ],
            "image/png": "[encoded data removed]"
          },
          "metadata": {}
        }
      ]
    },
    {
      "cell_type": "markdown",
      "source": [
        "**25. Gaussian Naïve Bayes on Breast Cancer Dataset**"
      ],
      "metadata": {
        "id": "hxzReQqHYgql"
      }
    },
    {
      "cell_type": "code",
      "source": [
        "from sklearn import datasets\n",
        "from sklearn.model_selection import train_test_split\n",
        "from sklearn.naive_bayes import GaussianNB\n",
        "from sklearn.metrics import accuracy_score\n",
        "\n",
        "# Load dataset\n",
        "cancer = datasets.load_breast_cancer()\n",
        "X, y = cancer.data, cancer.target\n",
        "\n",
        "# Split dataset\n",
        "X_train, X_test, y_train, y_test = train_test_split(X, y, test_size=0.3, random_state=42)\n",
        "\n",
        "# Train Gaussian Naïve Bayes\n",
        "clf = GaussianNB()\n",
        "clf.fit(X_train, y_train)\n",
        "\n",
        "# Evaluate accuracy\n",
        "y_pred = clf.predict(X_test)\n",
        "print(f\"Accuracy: {accuracy_score(y_test, y_pred)}\")"
      ],
      "metadata": {
        "colab": {
          "base_uri": "https://localhost:8080/"
        },
        "id": "ez24375zWT6u",
        "outputId": "0fad2374-57f4-49b7-9db2-e3a72236de99"
      },
      "execution_count": 8,
      "outputs": [
        {
          "output_type": "stream",
          "name": "stdout",
          "text": [
            "Accuracy: 0.9415204678362573\n"
          ]
        }
      ]
    },
    {
      "cell_type": "markdown",
      "source": [
        "**26. Multinomial Naïve Bayes for Text Classification on 20 Newsgroups Dataset**"
      ],
      "metadata": {
        "id": "KLZAqztiY8Ra"
      }
    },
    {
      "cell_type": "code",
      "source": [
        "from sklearn.datasets import fetch_20newsgroups\n",
        "from sklearn.feature_extraction.text import TfidfVectorizer\n",
        "from sklearn.naive_bayes import MultinomialNB\n",
        "from sklearn.pipeline import make_pipeline\n",
        "from sklearn.metrics import accuracy_score\n",
        "\n",
        "# Load dataset\n",
        "newsgroups = fetch_20newsgroups(subset='train')\n",
        "X_train, y_train = newsgroups.data, newsgroups.target\n",
        "\n",
        "# Vectorize text data\n",
        "vectorizer = TfidfVectorizer()\n",
        "X_train_vec = vectorizer.fit_transform(X_train)\n",
        "\n",
        "# Train Multinomial Naïve Bayes\n",
        "clf = MultinomialNB()\n",
        "clf.fit(X_train_vec, y_train)\n",
        "\n",
        "# Test on subset\n",
        "newsgroups_test = fetch_20newsgroups(subset='test')\n",
        "X_test, y_test = newsgroups_test.data, newsgroups_test.target\n",
        "X_test_vec = vectorizer.transform(X_test)\n",
        "\n",
        "# Evaluate accuracy\n",
        "y_pred = clf.predict(X_test_vec)\n",
        "print(f\"Accuracy: {accuracy_score(y_test, y_pred)}\")"
      ],
      "metadata": {
        "colab": {
          "base_uri": "https://localhost:8080/"
        },
        "id": "84v7VWnuYkGf",
        "outputId": "2cc34cf8-734d-445a-cdd4-655a66442a8c"
      },
      "execution_count": 9,
      "outputs": [
        {
          "output_type": "stream",
          "name": "stdout",
          "text": [
            "Accuracy: 0.7738980350504514\n"
          ]
        }
      ]
    },
    {
      "cell_type": "markdown",
      "source": [
        "**27. SVM Classifier with Different C Values and Decision Boundary Visualization**"
      ],
      "metadata": {
        "id": "AVEE9cPJZj6X"
      }
    },
    {
      "cell_type": "code",
      "source": [
        "import numpy as np\n",
        "import matplotlib.pyplot as plt\n",
        "from sklearn import datasets\n",
        "from sklearn.svm import SVC\n",
        "\n",
        "# Load dataset\n",
        "iris = datasets.load_iris()\n",
        "X = iris.data[:, :2]  # Use only the first two features for visualization\n",
        "y = iris.target\n",
        "\n",
        "# Train SVM with different C values\n",
        "C_values = [0.1, 1, 10]\n",
        "for C in C_values:\n",
        "    clf = SVC(kernel='linear', C=C)\n",
        "    clf.fit(X, y)\n",
        "\n",
        "    # Plot decision boundary\n",
        "    x_min, x_max = X[:, 0].min() - 1, X[:, 0].max() + 1\n",
        "    y_min, y_max = X[:, 1].min() - 1, X[:, 1].max() + 1\n",
        "    xx, yy = np.meshgrid(np.arange(x_min, x_max, 0.02),\n",
        "                         np.arange(y_min, y_max, 0.02))\n",
        "    Z = clf.predict(np.c_[xx.ravel(), yy.ravel()])\n",
        "    Z = Z.reshape(xx.shape)\n",
        "\n",
        "    plt.contourf(xx, yy, Z, alpha=0.8)\n",
        "    plt.scatter(X[:, 0], X[:, 1], c=y, edgecolors='k', marker='o')\n",
        "    plt.title(f'SVM with C={C}')\n",
        "    plt.show()"
      ],
      "metadata": {
        "colab": {
          "base_uri": "https://localhost:8080/",
          "height": 1000
        },
        "id": "GL4gQChVY-wl",
        "outputId": "e78fc859-ebde-4e86-d7c5-d9567c7a762f"
      },
      "execution_count": 10,
      "outputs": [
        {
          "output_type": "display_data",
          "data": {
            "text/plain": [
              "<Figure size 640x480 with 1 Axes>"
            ],
            "image/png": "[encoded data removed]"
          },
          "metadata": {}
        },
        {
          "output_type": "display_data",
          "data": {
            "text/plain": [
              "<Figure size 640x480 with 1 Axes>"
            ],
            "image/png": "[encoded data removed]"
          },
          "metadata": {}
        },
        {
          "output_type": "display_data",
          "data": {
            "text/plain": [
              "<Figure size 640x480 with 1 Axes>"
            ],
            "image/png": "[encoded data removed]"
          },
          "metadata": {}
        }
      ]
    },
    {
      "cell_type": "markdown",
      "source": [
        "**28. Bernoulli Naive Bayes for Binary Classification**"
      ],
      "metadata": {
        "id": "Xr_EGrreZtuG"
      }
    },
    {
      "cell_type": "code",
      "source": [
        "from sklearn.datasets import make_classification\n",
        "from sklearn.model_selection import train_test_split\n",
        "from sklearn.naive_bayes import BernoulliNB\n",
        "from sklearn.metrics import accuracy_score\n",
        "\n",
        "# Generate binary dataset\n",
        "X, y = make_classification(n_samples=1000, n_features=20, n_classes=2, random_state=42)\n",
        "\n",
        "# Split dataset\n",
        "X_train, X_test, y_train, y_test = train_test_split(X, y, test_size=0.3, random_state=42)\n",
        "\n",
        "# Train Bernoulli Naive Bayes\n",
        "clf = BernoulliNB()\n",
        "clf.fit(X_train, y_train)\n",
        "\n",
        "# Evaluate accuracy\n",
        "y_pred = clf.predict(X_test)\n",
        "print(f\"Accuracy: {accuracy_score(y_test, y_pred)}\")"
      ],
      "metadata": {
        "colab": {
          "base_uri": "https://localhost:8080/"
        },
        "id": "bEPJOsyXZmKR",
        "outputId": "b930fe71-72e9-48d2-8bbe-bd7e8e83afc1"
      },
      "execution_count": 11,
      "outputs": [
        {
          "output_type": "stream",
          "name": "stdout",
          "text": [
            "Accuracy: 0.7966666666666666\n"
          ]
        }
      ]
    },
    {
      "cell_type": "markdown",
      "source": [
        "**29. Feature Scaling Before Training SVM**"
      ],
      "metadata": {
        "id": "y_1M6piKZ5e2"
      }
    },
    {
      "cell_type": "code",
      "source": [
        "from sklearn import datasets\n",
        "from sklearn.model_selection import train_test_split\n",
        "from sklearn.svm import SVC\n",
        "from sklearn.preprocessing import StandardScaler\n",
        "from sklearn.metrics import accuracy_score\n",
        "\n",
        "# Load dataset\n",
        "iris = datasets.load_iris()\n",
        "X, y = iris.data, iris.target\n",
        "\n",
        "# Split dataset\n",
        "X_train, X_test, y_train, y_test = train_test_split(X, y, test_size=0.3, random_state=42)\n",
        "\n",
        "# Scale features\n",
        "scaler = StandardScaler()\n",
        "X_train_scaled = scaler.fit_transform(X_train)\n",
        "X_test_scaled = scaler.transform(X_test)\n",
        "\n",
        "# Train SVM with scaled data\n",
        "clf_scaled = SVC(kernel='linear')\n",
        "clf_scaled.fit(X_train_scaled, y_train)\n",
        "y_pred_scaled = clf_scaled.predict(X_test_scaled)\n",
        "print(f\"Scaled Data Accuracy: {accuracy_score(y_test, y_pred_scaled)}\")\n",
        "\n",
        "# Train SVM with unscaled data\n",
        "clf_unscaled = SVC(kernel='linear')\n",
        "clf_unscaled.fit(X_train, y_train)\n",
        "y_pred_unscaled = clf_unscaled.predict(X_test)\n",
        "print(f\"Unscaled Data Accuracy: {accuracy_score(y_test, y_pred_unscaled)}\")"
      ],
      "metadata": {
        "colab": {
          "base_uri": "https://localhost:8080/"
        },
        "id": "dzMuKOg5ZwD3",
        "outputId": "74181bbb-e141-44bd-b76b-9718f174b37d"
      },
      "execution_count": 14,
      "outputs": [
        {
          "output_type": "stream",
          "name": "stdout",
          "text": [
            "Scaled Data Accuracy: 0.9777777777777777\n",
            "Unscaled Data Accuracy: 1.0\n"
          ]
        }
      ]
    },
    {
      "cell_type": "markdown",
      "source": [
        "**30. Gaussian Naive Bayes with Laplace Smoothing**"
      ],
      "metadata": {
        "id": "CjmZHKEiaIj2"
      }
    },
    {
      "cell_type": "code",
      "source": [
        "from sklearn import datasets\n",
        "from sklearn.model_selection import train_test_split\n",
        "from sklearn.naive_bayes import GaussianNB\n",
        "from sklearn.metrics import accuracy_score\n",
        "\n",
        "# Load dataset\n",
        "iris = datasets.load_iris()\n",
        "X, y = iris.data, iris.target\n",
        "\n",
        "# Split dataset\n",
        "X_train, X_test, y_train, y_test = train_test_split(X, y, test_size=0.3, random_state=42)\n",
        "\n",
        "# Train Gaussian Naive Bayes without Laplace Smoothing\n",
        "clf_no_smoothing = GaussianNB(var_smoothing=0)\n",
        "clf_no_smoothing.fit(X_train, y_train)\n",
        "y_pred_no_smoothing = clf_no_smoothing.predict(X_test)\n",
        "print(f\"Accuracy without Laplace Smoothing: {accuracy_score(y_test, y_pred_no_smoothing)}\")\n",
        "\n",
        "# Train Gaussian Naive Bayes with Laplace Smoothing\n",
        "clf_smoothing = GaussianNB(var_smoothing=1e-9)\n",
        "clf_smoothing.fit(X_train, y_train)\n",
        "y_pred_smoothing = clf_smoothing.predict(X_test)\n",
        "print(f\"Accuracy with Laplace Smoothing: {accuracy_score(y_test, y_pred_smoothing)}\")"
      ],
      "metadata": {
        "colab": {
          "base_uri": "https://localhost:8080/"
        },
        "id": "7fZgy4ASZ7xP",
        "outputId": "c8a7d74a-820c-4e5e-f1df-c61206b5b847"
      },
      "execution_count": 15,
      "outputs": [
        {
          "output_type": "stream",
          "name": "stdout",
          "text": [
            "Accuracy without Laplace Smoothing: 0.9777777777777777\n",
            "Accuracy with Laplace Smoothing: 0.9777777777777777\n"
          ]
        }
      ]
    },
    {
      "cell_type": "markdown",
      "source": [
        "**31. SVM Classifier with GridSearchCV for Hyperparameter Tuning**"
      ],
      "metadata": {
        "id": "dZqB_KdQagUu"
      }
    },
    {
      "cell_type": "code",
      "source": [
        "from sklearn import datasets\n",
        "from sklearn.model_selection import train_test_split, GridSearchCV\n",
        "from sklearn.svm import SVC\n",
        "\n",
        "# Load dataset\n",
        "iris = datasets.load_iris()\n",
        "X, y = iris.data, iris.target\n",
        "\n",
        "# Split dataset\n",
        "X_train, X_test, y_train, y_test = train_test_split(X, y, test_size=0.3, random_state=42)\n",
        "\n",
        "# Define parameter grid\n",
        "param_grid = {'C': [0.1, 1, 10], 'gamma': [1, 0.1, 0.01], 'kernel': ['linear', 'rbf']}\n",
        "\n",
        "# GridSearchCV\n",
        "grid = GridSearchCV(SVC(), param_grid, refit=True, verbose=2)\n",
        "grid.fit(X_train, y_train)\n",
        "\n",
        "# Best parameters and accuracy\n",
        "print(f\"Best Parameters: {grid.best_params_}\")\n",
        "print(f\"Best Accuracy: {grid.best_score_}\")"
      ],
      "metadata": {
        "colab": {
          "base_uri": "https://localhost:8080/"
        },
        "id": "nvGwlp1oaLLu",
        "outputId": "02110652-ce32-4ac2-cb04-6b964f5c0a34"
      },
      "execution_count": 16,
      "outputs": [
        {
          "output_type": "stream",
          "name": "stdout",
          "text": [
            "Fitting 5 folds for each of 18 candidates, totalling 90 fits\n",
            "[CV] END ......................C=0.1, gamma=1, kernel=linear; total time=   0.0s\n",
            "[CV] END ......................C=0.1, gamma=1, kernel=linear; total time=   0.0s\n",
            "[CV] END ......................C=0.1, gamma=1, kernel=linear; total time=   0.0s\n",
            "[CV] END ......................C=0.1, gamma=1, kernel=linear; total time=   0.0s\n",
            "[CV] END ......................C=0.1, gamma=1, kernel=linear; total time=   0.0s\n",
            "[CV] END .........................C=0.1, gamma=1, kernel=rbf; total time=   0.0s\n",
            "[CV] END .........................C=0.1, gamma=1, kernel=rbf; total time=   0.0s\n",
            "[CV] END .........................C=0.1, gamma=1, kernel=rbf; total time=   0.0s\n",
            "[CV] END .........................C=0.1, gamma=1, kernel=rbf; total time=   0.0s\n",
            "[CV] END .........................C=0.1, gamma=1, kernel=rbf; total time=   0.0s\n",
            "[CV] END ....................C=0.1, gamma=0.1, kernel=linear; total time=   0.0s\n",
            "[CV] END ....................C=0.1, gamma=0.1, kernel=linear; total time=   0.0s\n",
            "[CV] END ....................C=0.1, gamma=0.1, kernel=linear; total time=   0.0s\n",
            "[CV] END ....................C=0.1, gamma=0.1, kernel=linear; total time=   0.0s\n",
            "[CV] END ....................C=0.1, gamma=0.1, kernel=linear; total time=   0.0s\n",
            "[CV] END .......................C=0.1, gamma=0.1, kernel=rbf; total time=   0.0s\n",
            "[CV] END .......................C=0.1, gamma=0.1, kernel=rbf; total time=   0.0s\n",
            "[CV] END .......................C=0.1, gamma=0.1, kernel=rbf; total time=   0.0s\n",
            "[CV] END .......................C=0.1, gamma=0.1, kernel=rbf; total time=   0.0s\n",
            "[CV] END .......................C=0.1, gamma=0.1, kernel=rbf; total time=   0.0s\n",
            "[CV] END ...................C=0.1, gamma=0.01, kernel=linear; total time=   0.0s\n",
            "[CV] END ...................C=0.1, gamma=0.01, kernel=linear; total time=   0.0s\n",
            "[CV] END ...................C=0.1, gamma=0.01, kernel=linear; total time=   0.0s\n",
            "[CV] END ...................C=0.1, gamma=0.01, kernel=linear; total time=   0.0s\n",
            "[CV] END ...................C=0.1, gamma=0.01, kernel=linear; total time=   0.0s\n",
            "[CV] END ......................C=0.1, gamma=0.01, kernel=rbf; total time=   0.0s\n",
            "[CV] END ......................C=0.1, gamma=0.01, kernel=rbf; total time=   0.0s\n",
            "[CV] END ......................C=0.1, gamma=0.01, kernel=rbf; total time=   0.0s\n",
            "[CV] END ......................C=0.1, gamma=0.01, kernel=rbf; total time=   0.0s\n",
            "[CV] END ......................C=0.1, gamma=0.01, kernel=rbf; total time=   0.0s\n",
            "[CV] END ........................C=1, gamma=1, kernel=linear; total time=   0.0s\n",
            "[CV] END ........................C=1, gamma=1, kernel=linear; total time=   0.0s\n",
            "[CV] END ........................C=1, gamma=1, kernel=linear; total time=   0.0s\n",
            "[CV] END ........................C=1, gamma=1, kernel=linear; total time=   0.0s\n",
            "[CV] END ........................C=1, gamma=1, kernel=linear; total time=   0.0s\n",
            "[CV] END ...........................C=1, gamma=1, kernel=rbf; total time=   0.0s\n",
            "[CV] END ...........................C=1, gamma=1, kernel=rbf; total time=   0.0s\n",
            "[CV] END ...........................C=1, gamma=1, kernel=rbf; total time=   0.0s\n",
            "[CV] END ...........................C=1, gamma=1, kernel=rbf; total time=   0.0s\n",
            "[CV] END ...........................C=1, gamma=1, kernel=rbf; total time=   0.0s\n",
            "[CV] END ......................C=1, gamma=0.1, kernel=linear; total time=   0.0s\n",
            "[CV] END ......................C=1, gamma=0.1, kernel=linear; total time=   0.0s\n",
            "[CV] END ......................C=1, gamma=0.1, kernel=linear; total time=   0.0s\n",
            "[CV] END ......................C=1, gamma=0.1, kernel=linear; total time=   0.0s\n",
            "[CV] END ......................C=1, gamma=0.1, kernel=linear; total time=   0.0s\n",
            "[CV] END .........................C=1, gamma=0.1, kernel=rbf; total time=   0.0s\n",
            "[CV] END .........................C=1, gamma=0.1, kernel=rbf; total time=   0.0s\n",
            "[CV] END .........................C=1, gamma=0.1, kernel=rbf; total time=   0.0s\n",
            "[CV] END .........................C=1, gamma=0.1, kernel=rbf; total time=   0.0s\n",
            "[CV] END .........................C=1, gamma=0.1, kernel=rbf; total time=   0.0s\n",
            "[CV] END .....................C=1, gamma=0.01, kernel=linear; total time=   0.0s\n",
            "[CV] END .....................C=1, gamma=0.01, kernel=linear; total time=   0.0s\n",
            "[CV] END .....................C=1, gamma=0.01, kernel=linear; total time=   0.0s\n",
            "[CV] END .....................C=1, gamma=0.01, kernel=linear; total time=   0.0s\n",
            "[CV] END .....................C=1, gamma=0.01, kernel=linear; total time=   0.0s\n",
            "[CV] END ........................C=1, gamma=0.01, kernel=rbf; total time=   0.0s\n",
            "[CV] END ........................C=1, gamma=0.01, kernel=rbf; total time=   0.0s\n",
            "[CV] END ........................C=1, gamma=0.01, kernel=rbf; total time=   0.0s\n",
            "[CV] END ........................C=1, gamma=0.01, kernel=rbf; total time=   0.0s\n",
            "[CV] END ........................C=1, gamma=0.01, kernel=rbf; total time=   0.0s\n",
            "[CV] END .......................C=10, gamma=1, kernel=linear; total time=   0.0s\n",
            "[CV] END .......................C=10, gamma=1, kernel=linear; total time=   0.0s\n",
            "[CV] END .......................C=10, gamma=1, kernel=linear; total time=   0.0s\n",
            "[CV] END .......................C=10, gamma=1, kernel=linear; total time=   0.0s\n",
            "[CV] END .......................C=10, gamma=1, kernel=linear; total time=   0.0s\n",
            "[CV] END ..........................C=10, gamma=1, kernel=rbf; total time=   0.0s\n",
            "[CV] END ..........................C=10, gamma=1, kernel=rbf; total time=   0.0s\n",
            "[CV] END ..........................C=10, gamma=1, kernel=rbf; total time=   0.0s\n",
            "[CV] END ..........................C=10, gamma=1, kernel=rbf; total time=   0.0s\n",
            "[CV] END ..........................C=10, gamma=1, kernel=rbf; total time=   0.0s\n",
            "[CV] END .....................C=10, gamma=0.1, kernel=linear; total time=   0.0s\n",
            "[CV] END .....................C=10, gamma=0.1, kernel=linear; total time=   0.0s\n",
            "[CV] END .....................C=10, gamma=0.1, kernel=linear; total time=   0.0s\n",
            "[CV] END .....................C=10, gamma=0.1, kernel=linear; total time=   0.0s\n",
            "[CV] END .....................C=10, gamma=0.1, kernel=linear; total time=   0.0s\n",
            "[CV] END ........................C=10, gamma=0.1, kernel=rbf; total time=   0.0s\n",
            "[CV] END ........................C=10, gamma=0.1, kernel=rbf; total time=   0.0s\n",
            "[CV] END ........................C=10, gamma=0.1, kernel=rbf; total time=   0.0s\n",
            "[CV] END ........................C=10, gamma=0.1, kernel=rbf; total time=   0.0s\n",
            "[CV] END ........................C=10, gamma=0.1, kernel=rbf; total time=   0.0s\n",
            "[CV] END ....................C=10, gamma=0.01, kernel=linear; total time=   0.0s\n",
            "[CV] END ....................C=10, gamma=0.01, kernel=linear; total time=   0.0s\n",
            "[CV] END ....................C=10, gamma=0.01, kernel=linear; total time=   0.0s\n",
            "[CV] END ....................C=10, gamma=0.01, kernel=linear; total time=   0.0s\n",
            "[CV] END ....................C=10, gamma=0.01, kernel=linear; total time=   0.0s\n",
            "[CV] END .......................C=10, gamma=0.01, kernel=rbf; total time=   0.0s\n",
            "[CV] END .......................C=10, gamma=0.01, kernel=rbf; total time=   0.0s\n",
            "[CV] END .......................C=10, gamma=0.01, kernel=rbf; total time=   0.0s\n",
            "[CV] END .......................C=10, gamma=0.01, kernel=rbf; total time=   0.0s\n",
            "[CV] END .......................C=10, gamma=0.01, kernel=rbf; total time=   0.0s\n",
            "Best Parameters: {'C': 1, 'gamma': 1, 'kernel': 'linear'}\n",
            "Best Accuracy: 0.9619047619047618\n"
          ]
        }
      ]
    },
    {
      "cell_type": "markdown",
      "source": [
        "**32. SVM Classifier on Imbalanced Dataset with Class Weighting**"
      ],
      "metadata": {
        "id": "dDB86P3acQTM"
      }
    },
    {
      "cell_type": "code",
      "source": [
        "from sklearn import datasets\n",
        "from sklearn.model_selection import train_test_split\n",
        "from sklearn.svm import SVC\n",
        "from sklearn.metrics import accuracy_score\n",
        "\n",
        "# Load dataset (example using make_classification for imbalance)\n",
        "from sklearn.datasets import make_classification\n",
        "X, y = make_classification(n_samples=1000, n_features=20, n_classes=2, weights=[0.9, 0.1], random_state=42)\n",
        "\n",
        "# Split dataset\n",
        "X_train, X_test, y_train, y_test = train_test_split(X, y, test_size=0.3, random_state=42)\n",
        "\n",
        "# Train SVM with class weighting\n",
        "clf = SVC(kernel='linear', class_weight='balanced')\n",
        "clf.fit(X_train, y_train)\n",
        "\n",
        "# Evaluate accuracy\n",
        "y_pred = clf.predict(X_test)\n",
        "print(f\"Accuracy with Class Weighting: {accuracy_score(y_test, y_pred)}\")"
      ],
      "metadata": {
        "colab": {
          "base_uri": "https://localhost:8080/"
        },
        "id": "nskEL-A6aipQ",
        "outputId": "84d0cd66-0d08-4f2d-8058-f9f62fde44a2"
      },
      "execution_count": 17,
      "outputs": [
        {
          "output_type": "stream",
          "name": "stdout",
          "text": [
            "Accuracy with Class Weighting: 0.8466666666666667\n"
          ]
        }
      ]
    },
    {
      "cell_type": "markdown",
      "source": [
        "**33. Naive Bayes Classifier for Spam Detection**"
      ],
      "metadata": {
        "id": "2yMKYzaccdHg"
      }
    },
    {
      "cell_type": "code",
      "source": [
        "from sklearn.datasets import fetch_20newsgroups\n",
        "from sklearn.feature_extraction.text import TfidfVectorizer\n",
        "from sklearn.naive_bayes import MultinomialNB\n",
        "from sklearn.pipeline import make_pipeline\n",
        "from sklearn.metrics import accuracy_score\n",
        "\n",
        "# Load dataset (example using 20 Newsgroups for spam detection)\n",
        "categories = ['alt.atheism', 'soc.religion.christian']\n",
        "newsgroups = fetch_20newsgroups(subset='train', categories=categories)\n",
        "X_train, y_train = newsgroups.data, newsgroups.target\n",
        "\n",
        "# Vectorize text data\n",
        "vectorizer = TfidfVectorizer()\n",
        "X_train_vec = vectorizer.fit_transform(X_train)\n",
        "\n",
        "# Train Multinomial Naïve Bayes\n",
        "clf = MultinomialNB()\n",
        "clf.fit(X_train_vec, y_train)\n",
        "\n",
        "# Test on subset\n",
        "newsgroups_test = fetch_20newsgroups(subset='test', categories=categories)\n",
        "X_test, y_test = newsgroups_test.data, newsgroups_test.target\n",
        "X_test_vec = vectorizer.transform(X_test)\n",
        "\n",
        "# Evaluate accuracy\n",
        "y_pred = clf.predict(X_test_vec)\n",
        "print(f\"Accuracy: {accuracy_score(y_test, y_pred)}\")"
      ],
      "metadata": {
        "colab": {
          "base_uri": "https://localhost:8080/"
        },
        "id": "AKqUNMqRcT9X",
        "outputId": "337f3846-52bc-4bcd-942e-bd893d1bb789"
      },
      "execution_count": 18,
      "outputs": [
        {
          "output_type": "stream",
          "name": "stdout",
          "text": [
            "Accuracy: 0.8521617852161785\n"
          ]
        }
      ]
    },
    {
      "cell_type": "markdown",
      "source": [
        "**34. SVM Classifier vs Naive Bayes Classifier**"
      ],
      "metadata": {
        "id": "9mrUr9tHct-m"
      }
    },
    {
      "cell_type": "code",
      "source": [
        "from sklearn import datasets\n",
        "from sklearn.model_selection import train_test_split\n",
        "from sklearn.svm import SVC\n",
        "from sklearn.naive_bayes import GaussianNB\n",
        "from sklearn.metrics import accuracy_score\n",
        "\n",
        "# Load dataset\n",
        "iris = datasets.load_iris()\n",
        "X, y = iris.data, iris.target\n",
        "\n",
        "# Split dataset\n",
        "X_train, X_test, y_train, y_test = train_test_split(X, y, test_size=0.3, random_state=42)\n",
        "\n",
        "# Train SVM Classifier\n",
        "clf_svm = SVC(kernel='linear')\n",
        "clf_svm.fit(X_train, y_train)\n",
        "y_pred_svm = clf_svm.predict(X_test)\n",
        "print(f\"SVM Accuracy: {accuracy_score(y_test, y_pred_svm)}\")\n",
        "\n",
        "# Train Naive Bayes Classifier\n",
        "clf_nb = GaussianNB()\n",
        "clf_nb.fit(X_train, y_train)\n",
        "y_pred_nb = clf_nb.predict(X_test)\n",
        "print(f\"Naive Bayes Accuracy: {accuracy_score(y_test, y_pred_nb)}\")"
      ],
      "metadata": {
        "colab": {
          "base_uri": "https://localhost:8080/"
        },
        "id": "AyxMKqhdclbI",
        "outputId": "34b8ff84-153a-40f9-edec-ff663cf671f5"
      },
      "execution_count": 19,
      "outputs": [
        {
          "output_type": "stream",
          "name": "stdout",
          "text": [
            "SVM Accuracy: 1.0\n",
            "Naive Bayes Accuracy: 0.9777777777777777\n"
          ]
        }
      ]
    },
    {
      "cell_type": "markdown",
      "source": [
        "**35. Feature Selection Before Training Naive Bayes**"
      ],
      "metadata": {
        "id": "ogcyvSdMc0-U"
      }
    },
    {
      "cell_type": "code",
      "source": [
        "from sklearn import datasets\n",
        "from sklearn.model_selection import train_test_split\n",
        "from sklearn.feature_selection import SelectKBest, chi2\n",
        "from sklearn.naive_bayes import GaussianNB\n",
        "from sklearn.metrics import accuracy_score\n",
        "\n",
        "# Load dataset\n",
        "iris = datasets.load_iris()\n",
        "X, y = iris.data, iris.target\n",
        "\n",
        "# Split dataset\n",
        "X_train, X_test, y_train, y_test = train_test_split(X, y, test_size=0.3, random_state=42)\n",
        "\n",
        "# Feature selection\n",
        "selector = SelectKBest(chi2, k=2)\n",
        "X_train_selected = selector.fit_transform(X_train, y_train)\n",
        "X_test_selected = selector.transform(X_test)\n",
        "\n",
        "# Train Naive Bayes with selected features\n",
        "clf = GaussianNB()\n",
        "clf.fit(X_train_selected, y_train)\n",
        "y_pred = clf.predict(X_test_selected)\n",
        "print(f\"Accuracy with Feature Selection: {accuracy_score(y_test, y_pred)}\")"
      ],
      "metadata": {
        "colab": {
          "base_uri": "https://localhost:8080/"
        },
        "id": "o8lJ96GrcxCS",
        "outputId": "d296b324-f611-42f8-ebeb-0741e272ad67"
      },
      "execution_count": 20,
      "outputs": [
        {
          "output_type": "stream",
          "name": "stdout",
          "text": [
            "Accuracy with Feature Selection: 1.0\n"
          ]
        }
      ]
    },
    {
      "cell_type": "markdown",
      "source": [
        "**36. SVM Classifier with One-vs-Rest and One-vs-One Strategies**"
      ],
      "metadata": {
        "id": "hbO3nIGAdC0t"
      }
    },
    {
      "cell_type": "code",
      "source": [
        "from sklearn import datasets\n",
        "from sklearn.model_selection import train_test_split\n",
        "from sklearn.svm import SVC\n",
        "from sklearn.multiclass import OneVsRestClassifier, OneVsOneClassifier\n",
        "from sklearn.metrics import accuracy_score\n",
        "\n",
        "# Load dataset\n",
        "wine = datasets.load_wine()\n",
        "X, y = wine.data, wine.target\n",
        "\n",
        "# Split dataset\n",
        "X_train, X_test, y_train, y_test = train_test_split(X, y, test_size=0.3, random_state=42)\n",
        "\n",
        "# Train SVM with One-vs-Rest\n",
        "clf_ovr = OneVsRestClassifier(SVC(kernel='linear'))\n",
        "clf_ovr.fit(X_train, y_train)\n",
        "y_pred_ovr = clf_ovr.predict(X_test)\n",
        "print(f\"One-vs-Rest Accuracy: {accuracy_score(y_test, y_pred_ovr)}\")\n",
        "\n",
        "# Train SVM with One-vs-One\n",
        "clf_ovo = OneVsOneClassifier(SVC(kernel='linear'))\n",
        "clf_ovo.fit(X_train, y_train)\n",
        "y_pred_ovo = clf_ovo.predict(X_test)\n",
        "print(f\"One-vs-One Accuracy: {accuracy_score(y_test, y_pred_ovo)}\")"
      ],
      "metadata": {
        "colab": {
          "base_uri": "https://localhost:8080/"
        },
        "id": "77JQA8xYc_Yz",
        "outputId": "c7f12645-4217-4c9d-9343-be91eeabbe27"
      },
      "execution_count": 21,
      "outputs": [
        {
          "output_type": "stream",
          "name": "stdout",
          "text": [
            "One-vs-Rest Accuracy: 0.9814814814814815\n",
            "One-vs-One Accuracy: 0.9814814814814815\n"
          ]
        }
      ]
    },
    {
      "cell_type": "markdown",
      "source": [
        "**37. SVM Classifier with Different Kernels on Breast Cancer Dataset**"
      ],
      "metadata": {
        "id": "bTHBnfUfdNXT"
      }
    },
    {
      "cell_type": "code",
      "source": [
        "from sklearn import datasets\n",
        "from sklearn.model_selection import train_test_split\n",
        "from sklearn.svm import SVC\n",
        "from sklearn.metrics import accuracy_score\n",
        "\n",
        "# Load dataset\n",
        "cancer = datasets.load_breast_cancer()\n",
        "X, y = cancer.data, cancer.target\n",
        "\n",
        "# Split dataset\n",
        "X_train, X_test, y_train, y_test = train_test_split(X, y, test_size=0.3, random_state=42)\n",
        "\n",
        "# Train SVM with Linear Kernel\n",
        "clf_linear = SVC(kernel='linear')\n",
        "clf_linear.fit(X_train, y_train)\n",
        "y_pred_linear = clf_linear.predict(X_test)\n",
        "print(f\"Linear Kernel Accuracy: {accuracy_score(y_test, y_pred_linear)}\")\n",
        "\n",
        "# Train SVM with Polynomial Kernel\n",
        "clf_poly = SVC(kernel='poly', degree=3)\n",
        "clf_poly.fit(X_train, y_train)\n",
        "y_pred_poly = clf_poly.predict(X_test)\n",
        "print(f\"Polynomial Kernel Accuracy: {accuracy_score(y_test, y_pred_poly)}\")\n",
        "\n",
        "# Train SVM with RBF Kernel\n",
        "clf_rbf = SVC(kernel='rbf')\n",
        "clf_rbf.fit(X_train, y_train)\n",
        "y_pred_rbf = clf_rbf.predict(X_test)\n",
        "print(f\"RBF Kernel Accuracy: {accuracy_score(y_test, y_pred_rbf)}\")"
      ],
      "metadata": {
        "colab": {
          "base_uri": "https://localhost:8080/"
        },
        "id": "TYUC_FI0dGWB",
        "outputId": "ee0a7833-ee6c-4fe0-d411-302d1bda9110"
      },
      "execution_count": 22,
      "outputs": [
        {
          "output_type": "stream",
          "name": "stdout",
          "text": [
            "Linear Kernel Accuracy: 0.9649122807017544\n",
            "Polynomial Kernel Accuracy: 0.9415204678362573\n",
            "RBF Kernel Accuracy: 0.935672514619883\n"
          ]
        }
      ]
    },
    {
      "cell_type": "markdown",
      "source": [
        "**38. SVM Classifier with Stratified K-Fold Cross-Validation**"
      ],
      "metadata": {
        "id": "4GGhR8LMdVud"
      }
    },
    {
      "cell_type": "code",
      "source": [
        "from sklearn import datasets\n",
        "from sklearn.model_selection import cross_val_score, StratifiedKFold\n",
        "from sklearn.svm import SVC\n",
        "\n",
        "# Load dataset\n",
        "iris = datasets.load_iris()\n",
        "X, y = iris.data, iris.target\n",
        "\n",
        "# Stratified K-Fold Cross-Validation\n",
        "cv = StratifiedKFold(n_splits=5, shuffle=True, random_state=42)\n",
        "clf = SVC(kernel='linear')\n",
        "\n",
        "# Compute average accuracy\n",
        "scores = cross_val_score(clf, X, y, cv=cv)\n",
        "print(f\"Average Accuracy: {scores.mean()}\")"
      ],
      "metadata": {
        "colab": {
          "base_uri": "https://localhost:8080/"
        },
        "id": "-jhchyYZdPRr",
        "outputId": "5b5b79dd-6bc3-448e-9dd4-ba6d423cfef3"
      },
      "execution_count": 23,
      "outputs": [
        {
          "output_type": "stream",
          "name": "stdout",
          "text": [
            "Average Accuracy: 0.9866666666666667\n"
          ]
        }
      ]
    },
    {
      "cell_type": "markdown",
      "source": [
        "**39. Naive Bayes Classifier with Different Prior Probabilities**"
      ],
      "metadata": {
        "id": "zIoFeFlGdfUY"
      }
    },
    {
      "cell_type": "code",
      "source": [
        "from sklearn import datasets\n",
        "from sklearn.model_selection import train_test_split\n",
        "from sklearn.naive_bayes import GaussianNB\n",
        "from sklearn.metrics import accuracy_score\n",
        "\n",
        "# Load dataset\n",
        "iris = datasets.load_iris()\n",
        "X, y = iris.data, iris.target\n",
        "\n",
        "# Split dataset\n",
        "X_train, X_test, y_train, y_test = train_test_split(X, y, test_size=0.3, random_state=42)\n",
        "\n",
        "# Train Naive Bayes with different priors\n",
        "priors = [None, [0.1, 0.6, 0.3], [0.3, 0.3, 0.4]]\n",
        "for prior in priors:\n",
        "    clf = GaussianNB(priors=prior)\n",
        "    clf.fit(X_train, y_train)\n",
        "    y_pred = clf.predict(X_test)\n",
        "    print(f\"Accuracy with Priors {prior}: {accuracy_score(y_test, y_pred)}\")"
      ],
      "metadata": {
        "colab": {
          "base_uri": "https://localhost:8080/"
        },
        "id": "06pyNiTvdb23",
        "outputId": "13710a4b-2e30-43e9-b5aa-e75b18cd50c7"
      },
      "execution_count": 24,
      "outputs": [
        {
          "output_type": "stream",
          "name": "stdout",
          "text": [
            "Accuracy with Priors None: 0.9777777777777777\n",
            "Accuracy with Priors [0.1, 0.6, 0.3]: 1.0\n",
            "Accuracy with Priors [0.3, 0.3, 0.4]: 0.9777777777777777\n"
          ]
        }
      ]
    },
    {
      "cell_type": "markdown",
      "source": [
        "**40. Recursive Feature Elimination Before Training SVM**"
      ],
      "metadata": {
        "id": "Fxs2p9medpVc"
      }
    },
    {
      "cell_type": "code",
      "source": [
        "from sklearn import datasets\n",
        "from sklearn.model_selection import train_test_split\n",
        "from sklearn.feature_selection import RFE\n",
        "from sklearn.svm import SVC\n",
        "from sklearn.metrics import accuracy_score\n",
        "\n",
        "# Load dataset\n",
        "iris = datasets.load_iris()\n",
        "X, y = iris.data, iris.target\n",
        "\n",
        "# Split dataset\n",
        "X_train, X_test, y_train, y_test = train_test_split(X, y, test_size=0.3, random_state=42)\n",
        "\n",
        "# Recursive Feature Elimination\n",
        "clf = SVC(kernel='linear')\n",
        "rfe = RFE(clf, n_features_to_select=2)\n",
        "X_train_rfe = rfe.fit_transform(X_train, y_train)\n",
        "X_test_rfe = rfe.transform(X_test)\n",
        "\n",
        "# Train SVM with selected features\n",
        "clf.fit(X_train_rfe, y_train)\n",
        "y_pred = clf.predict(X_test_rfe)\n",
        "print(f\"Accuracy with RFE: {accuracy_score(y_test, y_pred)}\")"
      ],
      "metadata": {
        "colab": {
          "base_uri": "https://localhost:8080/"
        },
        "id": "TFFjdEfPdkCQ",
        "outputId": "c6ece93e-0923-400f-adf5-2a2a987e3eb2"
      },
      "execution_count": 25,
      "outputs": [
        {
          "output_type": "stream",
          "name": "stdout",
          "text": [
            "Accuracy with RFE: 1.0\n"
          ]
        }
      ]
    },
    {
      "cell_type": "markdown",
      "source": [
        "**41. SVM Classifier with Precision, Recall, and F1-Score**"
      ],
      "metadata": {
        "id": "XhlpxXhUdvil"
      }
    },
    {
      "cell_type": "code",
      "source": [
        "from sklearn import datasets\n",
        "from sklearn.model_selection import train_test_split\n",
        "from sklearn.svm import SVC\n",
        "from sklearn.metrics import precision_score, recall_score, f1_score\n",
        "\n",
        "# Load dataset\n",
        "iris = datasets.load_iris()\n",
        "X, y = iris.data, iris.target\n",
        "\n",
        "# Split dataset\n",
        "X_train, X_test, y_train, y_test = train_test_split(X, y, test_size=0.3, random_state=42)\n",
        "\n",
        "# Train SVM Classifier\n",
        "clf = SVC(kernel='linear')\n",
        "clf.fit(X_train, y_train)\n",
        "\n",
        "# Evaluate using Precision, Recall, and F1-Score\n",
        "y_pred = clf.predict(X_test)\n",
        "print(f\"Precision: {precision_score(y_test, y_pred, average='macro')}\")\n",
        "print(f\"Recall: {recall_score(y_test, y_pred, average='macro')}\")\n",
        "print(f\"F1-Score: {f1_score(y_test, y_pred, average='macro')}\")"
      ],
      "metadata": {
        "colab": {
          "base_uri": "https://localhost:8080/"
        },
        "id": "Hh5k5iqgdrev",
        "outputId": "9c830bfc-09ac-4050-b1e6-e6f5e9c344e1"
      },
      "execution_count": 26,
      "outputs": [
        {
          "output_type": "stream",
          "name": "stdout",
          "text": [
            "Precision: 1.0\n",
            "Recall: 1.0\n",
            "F1-Score: 1.0\n"
          ]
        }
      ]
    },
    {
      "cell_type": "markdown",
      "source": [
        "**42. Naive Bayes Classifier with Log Loss**"
      ],
      "metadata": {
        "id": "iMMUatnMdzaL"
      }
    },
    {
      "cell_type": "code",
      "source": [
        "from sklearn import datasets\n",
        "from sklearn.model_selection import train_test_split\n",
        "from sklearn.naive_bayes import GaussianNB\n",
        "from sklearn.metrics import log_loss\n",
        "\n",
        "# Load dataset\n",
        "iris = datasets.load_iris()\n",
        "X, y = iris.data, iris.target\n",
        "\n",
        "# Split dataset\n",
        "X_train, X_test, y_train, y_test = train_test_split(X, y, test_size=0.3, random_state=42)\n",
        "\n",
        "# Train Naive Bayes Classifier\n",
        "clf = GaussianNB()\n",
        "clf.fit(X_train, y_train)\n",
        "\n",
        "# Evaluate using Log Loss\n",
        "y_pred_proba = clf.predict_proba(X_test)\n",
        "print(f\"Log Loss: {log_loss(y_test, y_pred_proba)}\")"
      ],
      "metadata": {
        "colab": {
          "base_uri": "https://localhost:8080/"
        },
        "id": "enYO4b9_dyEt",
        "outputId": "bfdb945b-7686-43a2-ff0c-ac7395fda19e"
      },
      "execution_count": 27,
      "outputs": [
        {
          "output_type": "stream",
          "name": "stdout",
          "text": [
            "Log Loss: 0.04896447467183248\n"
          ]
        }
      ]
    },
    {
      "cell_type": "markdown",
      "source": [
        "**43. SVM Classifier with Confusion Matrix Visualization**"
      ],
      "metadata": {
        "id": "Q1_ZQzC9d6eL"
      }
    },
    {
      "cell_type": "code",
      "source": [
        "import seaborn as sns\n",
        "import matplotlib.pyplot as plt\n",
        "from sklearn import datasets\n",
        "from sklearn.model_selection import train_test_split\n",
        "from sklearn.svm import SVC\n",
        "from sklearn.metrics import confusion_matrix\n",
        "\n",
        "# Load dataset\n",
        "iris = datasets.load_iris()\n",
        "X, y = iris.data, iris.target\n",
        "\n",
        "# Split dataset\n",
        "X_train, X_test, y_train, y_test = train_test_split(X, y, test_size=0.3, random_state=42)\n",
        "\n",
        "# Train SVM Classifier\n",
        "clf = SVC(kernel='linear')\n",
        "clf.fit(X_train, y_train)\n",
        "\n",
        "# Predict and create confusion matrix\n",
        "y_pred = clf.predict(X_test)\n",
        "cm = confusion_matrix(y_test, y_pred)\n",
        "\n",
        "# Visualize confusion matrix\n",
        "sns.heatmap(cm, annot=True, fmt='d')\n",
        "plt.title('Confusion Matrix')\n",
        "plt.show()"
      ],
      "metadata": {
        "colab": {
          "base_uri": "https://localhost:8080/",
          "height": 452
        },
        "id": "2reQt054d3nS",
        "outputId": "82d3ba38-228b-4c49-f1b1-29e12ed9edc1"
      },
      "execution_count": 28,
      "outputs": [
        {
          "output_type": "display_data",
          "data": {
            "text/plain": [
              "<Figure size 640x480 with 2 Axes>"
            ],
            "image/png": "[encoded data removed]"
          },
          "metadata": {}
        }
      ]
    },
    {
      "cell_type": "markdown",
      "source": [
        "**44. SVM Regressor with Mean Absolute Error**"
      ],
      "metadata": {
        "id": "5TNQ96F8d_58"
      }
    },
    {
      "cell_type": "code",
      "source": [
        "from sklearn.svm import SVR\n",
        "from sklearn.metrics import mean_absolute_error\n",
        "from sklearn.datasets import fetch_california_housing\n",
        "from sklearn.model_selection import train_test_split\n",
        "\n",
        "X, y = fetch_california_housing(return_X_y=True)\n",
        "X_train, X_test, y_train, y_test = train_test_split(X, y, test_size=0.2, random_state=42)\n",
        "\n",
        "svr = SVR(kernel='rbf')\n",
        "svr.fit(X_train, y_train)\n",
        "\n",
        "y_pred_svr = svr.predict(X_test)\n",
        "print(\"SVR Mean Absolute Error:\", mean_absolute_error(y_test, y_pred_svr))"
      ],
      "metadata": {
        "colab": {
          "base_uri": "https://localhost:8080/"
        },
        "id": "R5yEH57nd9Au",
        "outputId": "4d37c89a-0789-4992-b3dc-44561fe86a03"
      },
      "execution_count": 2,
      "outputs": [
        {
          "output_type": "stream",
          "name": "stdout",
          "text": [
            "SVR Mean Absolute Error: 0.8599506583445761\n"
          ]
        }
      ]
    },
    {
      "cell_type": "markdown",
      "source": [
        "**45. Train a Naïve Bayes classifier and evaluate its performance using the ROC-AUC score.**"
      ],
      "metadata": {
        "id": "VZICsCptgTxQ"
      }
    },
    {
      "cell_type": "code",
      "source": [
        "from sklearn import datasets\n",
        "from sklearn.model_selection import train_test_split\n",
        "from sklearn.naive_bayes import GaussianNB\n",
        "from sklearn.metrics import roc_auc_score\n",
        "\n",
        "# Load dataset\n",
        "iris = datasets.load_iris()\n",
        "X, y = iris.data, iris.target\n",
        "\n",
        "# Split dataset\n",
        "X_train, X_test, y_train, y_test = train_test_split(X, y, test_size=0.3, random_state=42)\n",
        "\n",
        "# Train Naive Bayes Classifier\n",
        "clf = GaussianNB()\n",
        "clf.fit(X_train, y_train)\n",
        "\n",
        "# Evaluate using ROC-AUC Score\n",
        "y_pred_proba = clf.predict_proba(X_test)\n",
        "print(f\"ROC-AUC Score: {roc_auc_score(y_test, y_pred_proba, multi_class='ovr')}\")"
      ],
      "metadata": {
        "colab": {
          "base_uri": "https://localhost:8080/"
        },
        "id": "71_n9c4teCES",
        "outputId": "333f3d0f-b4e1-4b38-c652-1c7c54460f89"
      },
      "execution_count": 4,
      "outputs": [
        {
          "output_type": "stream",
          "name": "stdout",
          "text": [
            "ROC-AUC Score: 1.0\n"
          ]
        }
      ]
    },
    {
      "cell_type": "markdown",
      "source": [
        "**46. SVM Classifier with Precision-Recall Curve**"
      ],
      "metadata": {
        "id": "ckiHBYUJg1HY"
      }
    },
    {
      "cell_type": "code",
      "source": [
        "import matplotlib.pyplot as plt\n",
        "from sklearn import datasets\n",
        "from sklearn.model_selection import train_test_split\n",
        "from sklearn.svm import SVC\n",
        "from sklearn.metrics import precision_recall_curve, average_precision_score\n",
        "from sklearn.preprocessing import label_binarize\n",
        "\n",
        "# Load dataset\n",
        "iris = datasets.load_iris()\n",
        "X, y = iris.data, iris.target\n",
        "\n",
        "# Binarize the output - necessary for multiclass precision-recall curve\n",
        "y_bin = label_binarize(y, classes=[0, 1, 2])  # Store binarized y in y_bin\n",
        "n_classes = y_bin.shape[1]\n",
        "\n",
        "# Split dataset\n",
        "X_train, X_test, y_train, y_test = train_test_split(X, y, test_size=0.3, random_state=42)\n",
        "# Use original y for training, y_bin for testing and precision-recall curve\n",
        "y_test_bin = label_binarize(y_test, classes=[0, 1, 2])\n",
        "\n",
        "# Train SVM Classifier\n",
        "clf = SVC(kernel='linear', probability=True)\n",
        "clf.fit(X_train, y_train) # Use original y_train for fitting\n",
        "\n",
        "# Predict probabilities\n",
        "y_pred_proba = clf.predict_proba(X_test)\n",
        "\n",
        "# Compute Precision-Recall and plot curve for each class\n",
        "precision = dict()\n",
        "recall = dict()\n",
        "average_precision = dict()\n",
        "for i in range(n_classes):\n",
        "    precision[i], recall[i], _ = precision_recall_curve(y_test_bin[:, i], y_pred_proba[:, i])\n",
        "    average_precision[i] = average_precision_score(y_test_bin[:, i], y_pred_proba[:, i])\n",
        "\n",
        "# A \"micro-average\": quantifying score on all classes jointly\n",
        "precision[\"micro\"], recall[\"micro\"], _ = precision_recall_curve(\n",
        "    y_test_bin.ravel(), y_pred_proba.ravel()\n",
        ")\n",
        "average_precision[\"micro\"] = average_precision_score(\n",
        "    y_test_bin, y_pred_proba, average=\"micro\"\n",
        ")\n",
        "# Plot the micro-averaged Precision-Recall curve\n",
        "plt.figure()\n",
        "plt.step(recall[\"micro\"], precision[\"micro\"], where=\"post\")\n",
        "plt.xlabel(\"Recall\")\n",
        "plt.ylabel(\"Precision\")\n",
        "plt.ylim([0.0, 1.05])\n",
        "plt.xlim([0.0, 1.0])\n",
        "plt.title(\n",
        "    \"Average precision score, micro-averaged over all classes: AP={0:0.2f}\".format(\n",
        "        average_precision[\"micro\"]\n",
        "    )\n",
        ")\n",
        "plt.show()"
      ],
      "metadata": {
        "colab": {
          "base_uri": "https://localhost:8080/",
          "height": 472
        },
        "id": "rvExcU0rgW8c",
        "outputId": "709098e4-eeae-4908-e694-dad43633b406"
      },
      "execution_count": 9,
      "outputs": [
        {
          "output_type": "display_data",
          "data": {
            "text/plain": [
              "<Figure size 640x480 with 1 Axes>"
            ],
            "image/png": "[encoded data removed]"
          },
          "metadata": {}
        }
      ]
    }
  ]
}